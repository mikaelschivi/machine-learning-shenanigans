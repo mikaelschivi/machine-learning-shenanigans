{
 "cells": [
  {
   "cell_type": "markdown",
   "metadata": {},
   "source": [
    "### Linear Regression\n",
    "\n",
    "Linear regression is a type of supervised learning algorithm. In supervised learning, the algorithm learns a mapping from input features to output labels based on labeled training data. The \"supervision\" comes from the fact that the training data includes both input features and their corresponding output labels, allowing the algorithm to learn to predict output labels for new, unseen input features.\n",
    "\n"
   ]
  },
  {
   "cell_type": "code",
   "execution_count": null,
   "metadata": {},
   "outputs": [],
   "source": [
    "# Linear "
   ]
  }
 ],
 "metadata": {
  "language_info": {
   "name": "python"
  }
 },
 "nbformat": 4,
 "nbformat_minor": 2
}
